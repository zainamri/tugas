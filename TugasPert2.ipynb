{
  "nbformat": 4,
  "nbformat_minor": 0,
  "metadata": {
    "colab": {
      "provenance": [],
      "authorship_tag": "ABX9TyPyMPDrt6mp7Ugwkg7ELtWB",
      "include_colab_link": true
    },
    "kernelspec": {
      "name": "python3",
      "display_name": "Python 3"
    },
    "language_info": {
      "name": "python"
    }
  },
  "cells": [
    {
      "cell_type": "markdown",
      "metadata": {
        "id": "view-in-github",
        "colab_type": "text"
      },
      "source": [
        "<a href=\"https://colab.research.google.com/github/zainamri/tugas/blob/main/TugasPert2.ipynb\" target=\"_parent\"><img src=\"https://colab.research.google.com/assets/colab-badge.svg\" alt=\"Open In Colab\"/></a>"
      ]
    },
    {
      "cell_type": "markdown",
      "source": [
        "\n",
        "Zainab (15230008)\n",
        "\n"
      ],
      "metadata": {
        "id": "RIE5V4uh-bdW"
      }
    },
    {
      "cell_type": "code",
      "execution_count": 19,
      "metadata": {
        "colab": {
          "base_uri": "https://localhost:8080/"
        },
        "id": "C49dbL_j7ebe",
        "outputId": "7f373f96-eac6-41eb-a083-ff234cf26972"
      },
      "outputs": [
        {
          "output_type": "stream",
          "name": "stdout",
          "text": [
            "Requirement already satisfied: numpy in /usr/local/lib/python3.10/dist-packages (1.25.2)\n"
          ]
        }
      ],
      "source": [
        "pip install numpy"
      ]
    },
    {
      "cell_type": "code",
      "source": [
        "import numpy"
      ],
      "metadata": {
        "id": "T3UxybNk79_n"
      },
      "execution_count": 6,
      "outputs": []
    },
    {
      "cell_type": "code",
      "source": [
        "numpy.__version__"
      ],
      "metadata": {
        "colab": {
          "base_uri": "https://localhost:8080/",
          "height": 35
        },
        "id": "j8gi3XZn747G",
        "outputId": "70b27c99-e9f9-4c18-8ff4-7599929bfc2f"
      },
      "execution_count": 7,
      "outputs": [
        {
          "output_type": "execute_result",
          "data": {
            "text/plain": [
              "'1.25.2'"
            ],
            "application/vnd.google.colaboratory.intrinsic+json": {
              "type": "string"
            }
          },
          "metadata": {},
          "execution_count": 7
        }
      ]
    },
    {
      "cell_type": "code",
      "source": [
        "import numpy as np"
      ],
      "metadata": {
        "id": "Mee8DVi88CUI"
      },
      "execution_count": 12,
      "outputs": []
    },
    {
      "cell_type": "code",
      "source": [
        "grid=np.arange(11,36).reshape((5,5))\n",
        "print(grid)"
      ],
      "metadata": {
        "colab": {
          "base_uri": "https://localhost:8080/"
        },
        "id": "AEbBRjNu70hU",
        "outputId": "9a6bfac5-1fe0-4620-9997-5cfe7d3dbf16"
      },
      "execution_count": 13,
      "outputs": [
        {
          "output_type": "stream",
          "name": "stdout",
          "text": [
            "[[11 12 13 14 15]\n",
            " [16 17 18 19 20]\n",
            " [21 22 23 24 25]\n",
            " [26 27 28 29 30]\n",
            " [31 32 33 34 35]]\n"
          ]
        }
      ]
    },
    {
      "cell_type": "code",
      "source": [
        "def warna_angka(angka):\n",
        "    if angka in [11, 13, 15, 21, 23, 25, 31, 33, 35]:\n",
        "        return \"\\033[32m{}\\033[0m\".format(angka) # Hijau\n",
        "    elif angka in [12, 14]:\n",
        "        return \"\\033[31m{}\\033[0m\".format(angka) # Merah\n",
        "    elif angka in [16, 26]:\n",
        "        return \"\\033[34m{}\\033[0m\".format(angka) # Biru\n",
        "    elif angka in [12, 17, 22, 27, 32]:\n",
        "        return \"\\033[91m{}\\033[0m\".format(angka) # Merah Muda\n",
        "    else:\n",
        "        return str(angka)"
      ],
      "metadata": {
        "id": "OGpPgL5L90es"
      },
      "execution_count": 16,
      "outputs": []
    },
    {
      "cell_type": "code",
      "source": [
        "# Mengubah setiap elemen matriks dengan fungsi warna_angka\n",
        "grid_warna = np.vectorize(warna_angka)(grid)\n",
        "#menampilkan warna pada bagian yang di pilih\n",
        "for baris in grid_warna:\n",
        "    print(\" \".join(baris))"
      ],
      "metadata": {
        "colab": {
          "base_uri": "https://localhost:8080/"
        },
        "id": "YLss4DqQ8PSp",
        "outputId": "74f65d2d-af2b-4997-d724-2e34e0b93491"
      },
      "execution_count": 18,
      "outputs": [
        {
          "output_type": "stream",
          "name": "stdout",
          "text": [
            "\u001b[32m11\u001b[0m \u001b[31m12\u001b[0m \u001b[32m13\u001b[0m \u001b[31m14\u001b[0m \u001b[32m15\u001b[0m\n",
            "\u001b[34m16\u001b[0m \u001b[91m17\u001b[0m 18 19 20\n",
            "\u001b[32m21\u001b[0m \u001b[91m22\u001b[0m \u001b[32m23\u001b[0m 24 \u001b[32m25\u001b[0m\n",
            "\u001b[34m26\u001b[0m \u001b[91m27\u001b[0m 28 29 30\n",
            "\u001b[32m31\u001b[0m \u001b[91m32\u001b[0m \u001b[32m33\u001b[0m 34 \u001b[32m35\u001b[0m\n"
          ]
        }
      ]
    }
  ]
}