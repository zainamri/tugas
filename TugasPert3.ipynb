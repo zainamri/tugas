{
  "nbformat": 4,
  "nbformat_minor": 0,
  "metadata": {
    "colab": {
      "provenance": [],
      "authorship_tag": "ABX9TyNe2Lq9QQGJskC8xIwDpbkU",
      "include_colab_link": true
    },
    "kernelspec": {
      "name": "python3",
      "display_name": "Python 3"
    },
    "language_info": {
      "name": "python"
    }
  },
  "cells": [
    {
      "cell_type": "markdown",
      "metadata": {
        "id": "view-in-github",
        "colab_type": "text"
      },
      "source": [
        "<a href=\"https://colab.research.google.com/github/zainamri/tugas/blob/main/TugasPert3.ipynb\" target=\"_parent\"><img src=\"https://colab.research.google.com/assets/colab-badge.svg\" alt=\"Open In Colab\"/></a>"
      ]
    },
    {
      "cell_type": "code",
      "execution_count": 1,
      "metadata": {
        "colab": {
          "base_uri": "https://localhost:8080/"
        },
        "id": "E61syyIKjgeH",
        "outputId": "8ae347a0-80d5-4ba5-9ecd-26eef127ccd3"
      },
      "outputs": [
        {
          "output_type": "stream",
          "name": "stdout",
          "text": [
            "                 nama     gender    no_telepon\n",
            "0      Arfian Purnama  Laki-laki  081267001022\n",
            "1  Alisa Dityaningrum  Perempuan  087823560918\n",
            "2      Kiki Anggraeni  Perempuan  089654009102\n",
            "3     Rizky Kurniawan  Laki-laki  082267018967\n"
          ]
        }
      ],
      "source": [
        "import pandas as pd\n",
        "\n",
        "tablenama = {\n",
        "    'nama': ['Arfian Purnama', 'Alisa Dityaningrum', 'Kiki Anggraeni', 'Rizky Kurniawan'],\n",
        "    'gender': ['Laki-laki', 'Perempuan', 'Perempuan', 'Laki-laki'],\n",
        "    'no_telepon': ['081267001022', '087823560918', '089654009102', '082267018967']\n",
        "}\n",
        "df = pd.DataFrame(tablenama)\n",
        "print(df)"
      ]
    },
    {
      "cell_type": "code",
      "source": [
        "tablenama = {\n",
        "    'nama': ['Arfian Purnama', 'Alisa Dityaningrum', 'Kiki Anggraeni', 'Rizky Kurniawan'],\n",
        "    'gender': ['Laki-laki', 'Perempuan', 'Perempuan', 'Laki-laki'],\n",
        "    'no_telepon': ['081267001022', '087823560918', '089654009102', '082267018967'],\n",
        "    'Tugas': ['80', '89', '76', '80'],\n",
        "    'UTS': [ '88', '78', '90', '81'],\n",
        "    'UAS': [ '90', '89', '85', '82']\n",
        "}\n",
        "df = pd.DataFrame(tablenama)\n",
        "print(df)"
      ],
      "metadata": {
        "colab": {
          "base_uri": "https://localhost:8080/"
        },
        "id": "Uk021PgxjiBo",
        "outputId": "0dae3af3-f711-41cf-f71d-5b50f1768534"
      },
      "execution_count": 2,
      "outputs": [
        {
          "output_type": "stream",
          "name": "stdout",
          "text": [
            "                 nama     gender    no_telepon Tugas UTS UAS\n",
            "0      Arfian Purnama  Laki-laki  081267001022    80  88  90\n",
            "1  Alisa Dityaningrum  Perempuan  087823560918    89  78  89\n",
            "2      Kiki Anggraeni  Perempuan  089654009102    76  90  85\n",
            "3     Rizky Kurniawan  Laki-laki  082267018967    80  81  82\n"
          ]
        }
      ]
    }
  ]
}