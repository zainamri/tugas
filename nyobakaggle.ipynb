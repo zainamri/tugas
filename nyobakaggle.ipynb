{
  "nbformat": 4,
  "nbformat_minor": 0,
  "metadata": {
    "colab": {
      "provenance": [],
      "include_colab_link": true
    },
    "kernelspec": {
      "name": "python3",
      "display_name": "Python 3"
    },
    "language_info": {
      "name": "python"
    }
  },
  "cells": [
    {
      "cell_type": "markdown",
      "metadata": {
        "id": "view-in-github",
        "colab_type": "text"
      },
      "source": [
        "<a href=\"https://colab.research.google.com/github/zainamri/tugas/blob/main/nyobakaggle.ipynb\" target=\"_parent\"><img src=\"https://colab.research.google.com/assets/colab-badge.svg\" alt=\"Open In Colab\"/></a>"
      ]
    },
    {
      "cell_type": "code",
      "execution_count": 2,
      "metadata": {
        "colab": {
          "base_uri": "https://localhost:8080/"
        },
        "id": "5re5f3Suj9Ek",
        "outputId": "0dcf04e4-88c7-494d-97d9-b43076054b65"
      },
      "outputs": [
        {
          "output_type": "stream",
          "name": "stdout",
          "text": [
            "Requirement already satisfied: kaggle in /usr/local/lib/python3.10/dist-packages (1.6.14)\n",
            "Requirement already satisfied: six>=1.10 in /usr/local/lib/python3.10/dist-packages (from kaggle) (1.16.0)\n",
            "Requirement already satisfied: certifi>=2023.7.22 in /usr/local/lib/python3.10/dist-packages (from kaggle) (2024.2.2)\n",
            "Requirement already satisfied: python-dateutil in /usr/local/lib/python3.10/dist-packages (from kaggle) (2.8.2)\n",
            "Requirement already satisfied: requests in /usr/local/lib/python3.10/dist-packages (from kaggle) (2.31.0)\n",
            "Requirement already satisfied: tqdm in /usr/local/lib/python3.10/dist-packages (from kaggle) (4.66.4)\n",
            "Requirement already satisfied: python-slugify in /usr/local/lib/python3.10/dist-packages (from kaggle) (8.0.4)\n",
            "Requirement already satisfied: urllib3 in /usr/local/lib/python3.10/dist-packages (from kaggle) (2.0.7)\n",
            "Requirement already satisfied: bleach in /usr/local/lib/python3.10/dist-packages (from kaggle) (6.1.0)\n",
            "Requirement already satisfied: webencodings in /usr/local/lib/python3.10/dist-packages (from bleach->kaggle) (0.5.1)\n",
            "Requirement already satisfied: text-unidecode>=1.3 in /usr/local/lib/python3.10/dist-packages (from python-slugify->kaggle) (1.3)\n",
            "Requirement already satisfied: charset-normalizer<4,>=2 in /usr/local/lib/python3.10/dist-packages (from requests->kaggle) (3.3.2)\n",
            "Requirement already satisfied: idna<4,>=2.5 in /usr/local/lib/python3.10/dist-packages (from requests->kaggle) (3.7)\n"
          ]
        }
      ],
      "source": [
        "!pip install kaggle"
      ]
    },
    {
      "cell_type": "code",
      "source": [
        "import os\n",
        "os.environ['KAGGLE_USERNAME'] = 'zainamrii'\n",
        "os.environ['KAGGLE_KEY'] = ' ~/.kaggle/kaggle.json'\n",
        "import kaggle"
      ],
      "metadata": {
        "id": "LIlOj_-SGEdI"
      },
      "execution_count": 3,
      "outputs": []
    },
    {
      "cell_type": "code",
      "source": [
        "!kaggle datasets download -d utkarshx27/heart-disease-diagnosis-dataset"
      ],
      "metadata": {
        "colab": {
          "base_uri": "https://localhost:8080/"
        },
        "id": "1DX1Kj3mGJCR",
        "outputId": "e70ea066-3344-4bdb-b5c2-f690ef33670d"
      },
      "execution_count": 4,
      "outputs": [
        {
          "output_type": "stream",
          "name": "stdout",
          "text": [
            "Dataset URL: https://www.kaggle.com/datasets/utkarshx27/heart-disease-diagnosis-dataset\n",
            "License(s): CC0-1.0\n",
            "Downloading heart-disease-diagnosis-dataset.zip to /content\n",
            "  0% 0.00/3.29k [00:00<?, ?B/s]\n",
            "100% 3.29k/3.29k [00:00<00:00, 6.97MB/s]\n"
          ]
        }
      ]
    },
    {
      "cell_type": "code",
      "source": [
        "from zipfile import ZipFile\n",
        "file_name = 'heart-disease-diagnosis-dataset.zip'\n",
        "with ZipFile(file_name, 'r') as zip:\n",
        "  zip.extractall()\n",
        "  print('Done')"
      ],
      "metadata": {
        "colab": {
          "base_uri": "https://localhost:8080/"
        },
        "id": "GmflBwgtHkrY",
        "outputId": "20d14921-63d3-45d9-c4ab-6fc97a7168c9"
      },
      "execution_count": 5,
      "outputs": [
        {
          "output_type": "stream",
          "name": "stdout",
          "text": [
            "Done\n"
          ]
        }
      ]
    },
    {
      "cell_type": "code",
      "source": [
        "import pandas as pd\n",
        "\n",
        "# Buka file CSV yang di-ekstrak\n",
        "df = pd.read_csv('heart-disease-diagnosis-dataset.zip')\n",
        "\n",
        "# Lihat isi file\n",
        "print(df.head())"
      ],
      "metadata": {
        "colab": {
          "base_uri": "https://localhost:8080/"
        },
        "id": "KOKrEa_DIlk_",
        "outputId": "59fe2782-e095-48db-c236-a2a44ccdb99c"
      },
      "execution_count": 6,
      "outputs": [
        {
          "output_type": "stream",
          "name": "stdout",
          "text": [
            "   age  sex   chest pain type  resting blood pressure  serum cholestoral  \\\n",
            "0   70     1                4                     130                322   \n",
            "1   67     0                3                     115                564   \n",
            "2   57     1                2                     124                261   \n",
            "3   64     1                4                     128                263   \n",
            "4   74     0                2                     120                269   \n",
            "\n",
            "   fasting blood sugar  resting electrocardiographic results  max heart rate  \\\n",
            "0                    0                                     2             109   \n",
            "1                    0                                     2             160   \n",
            "2                    0                                     0             141   \n",
            "3                    0                                     0             105   \n",
            "4                    0                                     2             121   \n",
            "\n",
            "   exercise induced angina  oldpeak  ST segment  major vessels  thal  \\\n",
            "0                        0      2.4           2              3     3   \n",
            "1                        0      1.6           2              0     7   \n",
            "2                        0      0.3           1              0     7   \n",
            "3                        1      0.2           2              1     7   \n",
            "4                        1      0.2           1              1     3   \n",
            "\n",
            "   heart disease  \n",
            "0              2  \n",
            "1              1  \n",
            "2              2  \n",
            "3              1  \n",
            "4              1  \n"
          ]
        }
      ]
    },
    {
      "cell_type": "code",
      "source": [],
      "metadata": {
        "id": "5jTlP8VmVw4v"
      },
      "execution_count": 6,
      "outputs": []
    }
  ]
}